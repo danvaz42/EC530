{
 "cells": [
  {
   "cell_type": "code",
   "execution_count": 1,
   "id": "6140fb5f-422d-4178-afed-00141a6065e7",
   "metadata": {},
   "outputs": [
    {
     "name": "stdout",
     "output_type": "stream",
     "text": [
      "Distance Matrix:\n",
      "[[ 3.16227766  5.83095189 11.3137085 ]\n",
      " [ 4.          6.32455532  9.89949494]\n",
      " [ 5.09901951  7.07106781  8.48528137]]\n",
      "[1. 1.] is closest to [-2.  2.], distance = 3.16\n",
      "[2. 2.] is closest to [-2.  2.], distance = 4.00\n",
      "[3. 3.] is closest to [-2.  2.], distance = 5.10\n"
     ]
    }
   ],
   "source": [
    "import numpy as np\n",
    "from scipy.spatial.distance import cdist  # scipy package\n",
    "\n",
    "# arrays\n",
    "a1 = np.array([\n",
    "    [1.0, 1.0], [2.0, 2.0], [3.0, 3.0]\n",
    "])\n",
    "a2 = np.array([\n",
    "    [-2.0, 2.0], [-4.0, 4.0], [9.0, 9.0]\n",
    "])\n",
    "\n",
    "# calculate pairwise Euclidean distance\n",
    "distance_matrix = cdist(a1, a2) #pairwise euclidian distance\n",
    "# each element contains the distance between the i-th point in a1 and the j-th point in a2\n",
    "\n",
    "print(\"Distance Matrix:\")\n",
    "print(distance_matrix)\n",
    "\n",
    "# this finds the index of the smallest value => the min distance - along each row of the distance matrix\n",
    "closest_indices = np.argmin(distance_matrix, axis=1)\n",
    "\n",
    "# output \n",
    "for i, idx in enumerate(closest_indices):\n",
    "    print(f\"{a1[i]} is closest to {a2[idx]}, distance = {distance_matrix[i, idx]:.2f}\")\n"
   ]
  },
  {
   "cell_type": "code",
   "execution_count": null,
   "id": "27dfb71c-3112-4a20-bdf2-6307defe9439",
   "metadata": {},
   "outputs": [],
   "source": []
  }
 ],
 "metadata": {
  "kernelspec": {
   "display_name": "Python 3 (ipykernel)",
   "language": "python",
   "name": "python3"
  },
  "language_info": {
   "codemirror_mode": {
    "name": "ipython",
    "version": 3
   },
   "file_extension": ".py",
   "mimetype": "text/x-python",
   "name": "python",
   "nbconvert_exporter": "python",
   "pygments_lexer": "ipython3",
   "version": "3.10.2"
  }
 },
 "nbformat": 4,
 "nbformat_minor": 5
}
